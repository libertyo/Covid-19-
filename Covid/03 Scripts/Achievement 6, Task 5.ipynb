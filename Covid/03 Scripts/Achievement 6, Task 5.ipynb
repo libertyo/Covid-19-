{
 "cells": [
  {
   "cell_type": "code",
   "execution_count": 1,
   "id": "daf17fe2",
   "metadata": {},
   "outputs": [],
   "source": [
    "#import libraries \n",
    "import pandas as pd\n",
    "import numpy as np\n",
    "import os \n",
    "import seaborn as sns\n",
    "import matplotlib.pyplot as plt \n",
    "import scipy \n",
    "import sklearn \n",
    "from sklearn.cluster import KMeans \n",
    "from sklearn.preprocessing import StandardScaler\n",
    "import pylab as pl "
   ]
  },
  {
   "cell_type": "code",
   "execution_count": 2,
   "id": "85deafa6",
   "metadata": {},
   "outputs": [],
   "source": [
    "#path to project \n",
    "path = r'/Users/libertyonia/Documents/Covid'"
   ]
  },
  {
   "cell_type": "code",
   "execution_count": 3,
   "id": "53acf572",
   "metadata": {},
   "outputs": [],
   "source": [
    "#import data as dataframe \n",
    "df = pd.read_csv(os.path.join(path,'02 Data','Prepared Data','Ach6_T4_data.csv'))"
   ]
  },
  {
   "cell_type": "code",
   "execution_count": 4,
   "id": "0483ee44",
   "metadata": {},
   "outputs": [
    {
     "data": {
      "text/html": [
       "<div>\n",
       "<style scoped>\n",
       "    .dataframe tbody tr th:only-of-type {\n",
       "        vertical-align: middle;\n",
       "    }\n",
       "\n",
       "    .dataframe tbody tr th {\n",
       "        vertical-align: top;\n",
       "    }\n",
       "\n",
       "    .dataframe thead th {\n",
       "        text-align: right;\n",
       "    }\n",
       "</style>\n",
       "<table border=\"1\" class=\"dataframe\">\n",
       "  <thead>\n",
       "    <tr style=\"text-align: right;\">\n",
       "      <th></th>\n",
       "      <th>Unnamed: 0</th>\n",
       "      <th>county_code</th>\n",
       "      <th>county</th>\n",
       "      <th>state</th>\n",
       "      <th>lat</th>\n",
       "      <th>long</th>\n",
       "      <th>date</th>\n",
       "      <th>cases</th>\n",
       "      <th>state_code</th>\n",
       "      <th>deaths</th>\n",
       "      <th>male</th>\n",
       "      <th>female</th>\n",
       "      <th>median_age</th>\n",
       "      <th>population</th>\n",
       "      <th>female_percentage</th>\n",
       "      <th>region</th>\n",
       "      <th>daily_deaths</th>\n",
       "      <th>daily_cases</th>\n",
       "      <th>month</th>\n",
       "      <th>year</th>\n",
       "    </tr>\n",
       "  </thead>\n",
       "  <tbody>\n",
       "    <tr>\n",
       "      <th>0</th>\n",
       "      <td>2</td>\n",
       "      <td>1001.0</td>\n",
       "      <td>Autauga</td>\n",
       "      <td>Alabama</td>\n",
       "      <td>32.539527</td>\n",
       "      <td>-86.644082</td>\n",
       "      <td>2020-01-24</td>\n",
       "      <td>0</td>\n",
       "      <td>AL</td>\n",
       "      <td>0</td>\n",
       "      <td>26874</td>\n",
       "      <td>28326</td>\n",
       "      <td>37.8</td>\n",
       "      <td>55200</td>\n",
       "      <td>51.315217</td>\n",
       "      <td>South</td>\n",
       "      <td>0.0</td>\n",
       "      <td>0.0</td>\n",
       "      <td>1</td>\n",
       "      <td>2020</td>\n",
       "    </tr>\n",
       "    <tr>\n",
       "      <th>1</th>\n",
       "      <td>3</td>\n",
       "      <td>1001.0</td>\n",
       "      <td>Autauga</td>\n",
       "      <td>Alabama</td>\n",
       "      <td>32.539527</td>\n",
       "      <td>-86.644082</td>\n",
       "      <td>2020-01-25</td>\n",
       "      <td>0</td>\n",
       "      <td>AL</td>\n",
       "      <td>0</td>\n",
       "      <td>26874</td>\n",
       "      <td>28326</td>\n",
       "      <td>37.8</td>\n",
       "      <td>55200</td>\n",
       "      <td>51.315217</td>\n",
       "      <td>South</td>\n",
       "      <td>0.0</td>\n",
       "      <td>0.0</td>\n",
       "      <td>1</td>\n",
       "      <td>2020</td>\n",
       "    </tr>\n",
       "    <tr>\n",
       "      <th>2</th>\n",
       "      <td>4</td>\n",
       "      <td>1001.0</td>\n",
       "      <td>Autauga</td>\n",
       "      <td>Alabama</td>\n",
       "      <td>32.539527</td>\n",
       "      <td>-86.644082</td>\n",
       "      <td>2020-01-26</td>\n",
       "      <td>0</td>\n",
       "      <td>AL</td>\n",
       "      <td>0</td>\n",
       "      <td>26874</td>\n",
       "      <td>28326</td>\n",
       "      <td>37.8</td>\n",
       "      <td>55200</td>\n",
       "      <td>51.315217</td>\n",
       "      <td>South</td>\n",
       "      <td>0.0</td>\n",
       "      <td>0.0</td>\n",
       "      <td>1</td>\n",
       "      <td>2020</td>\n",
       "    </tr>\n",
       "    <tr>\n",
       "      <th>3</th>\n",
       "      <td>5</td>\n",
       "      <td>1001.0</td>\n",
       "      <td>Autauga</td>\n",
       "      <td>Alabama</td>\n",
       "      <td>32.539527</td>\n",
       "      <td>-86.644082</td>\n",
       "      <td>2020-01-27</td>\n",
       "      <td>0</td>\n",
       "      <td>AL</td>\n",
       "      <td>0</td>\n",
       "      <td>26874</td>\n",
       "      <td>28326</td>\n",
       "      <td>37.8</td>\n",
       "      <td>55200</td>\n",
       "      <td>51.315217</td>\n",
       "      <td>South</td>\n",
       "      <td>0.0</td>\n",
       "      <td>0.0</td>\n",
       "      <td>1</td>\n",
       "      <td>2020</td>\n",
       "    </tr>\n",
       "    <tr>\n",
       "      <th>4</th>\n",
       "      <td>6</td>\n",
       "      <td>1001.0</td>\n",
       "      <td>Autauga</td>\n",
       "      <td>Alabama</td>\n",
       "      <td>32.539527</td>\n",
       "      <td>-86.644082</td>\n",
       "      <td>2020-01-28</td>\n",
       "      <td>0</td>\n",
       "      <td>AL</td>\n",
       "      <td>0</td>\n",
       "      <td>26874</td>\n",
       "      <td>28326</td>\n",
       "      <td>37.8</td>\n",
       "      <td>55200</td>\n",
       "      <td>51.315217</td>\n",
       "      <td>South</td>\n",
       "      <td>0.0</td>\n",
       "      <td>0.0</td>\n",
       "      <td>1</td>\n",
       "      <td>2020</td>\n",
       "    </tr>\n",
       "  </tbody>\n",
       "</table>\n",
       "</div>"
      ],
      "text/plain": [
       "   Unnamed: 0  county_code   county    state        lat       long  \\\n",
       "0           2       1001.0  Autauga  Alabama  32.539527 -86.644082   \n",
       "1           3       1001.0  Autauga  Alabama  32.539527 -86.644082   \n",
       "2           4       1001.0  Autauga  Alabama  32.539527 -86.644082   \n",
       "3           5       1001.0  Autauga  Alabama  32.539527 -86.644082   \n",
       "4           6       1001.0  Autauga  Alabama  32.539527 -86.644082   \n",
       "\n",
       "         date  cases state_code  deaths   male  female  median_age  \\\n",
       "0  2020-01-24      0         AL       0  26874   28326        37.8   \n",
       "1  2020-01-25      0         AL       0  26874   28326        37.8   \n",
       "2  2020-01-26      0         AL       0  26874   28326        37.8   \n",
       "3  2020-01-27      0         AL       0  26874   28326        37.8   \n",
       "4  2020-01-28      0         AL       0  26874   28326        37.8   \n",
       "\n",
       "   population  female_percentage region  daily_deaths  daily_cases  month  \\\n",
       "0       55200          51.315217  South           0.0          0.0      1   \n",
       "1       55200          51.315217  South           0.0          0.0      1   \n",
       "2       55200          51.315217  South           0.0          0.0      1   \n",
       "3       55200          51.315217  South           0.0          0.0      1   \n",
       "4       55200          51.315217  South           0.0          0.0      1   \n",
       "\n",
       "   year  \n",
       "0  2020  \n",
       "1  2020  \n",
       "2  2020  \n",
       "3  2020  \n",
       "4  2020  "
      ]
     },
     "execution_count": 4,
     "metadata": {},
     "output_type": "execute_result"
    }
   ],
   "source": [
    "#check the df \n",
    "df.head()"
   ]
  },
  {
   "cell_type": "code",
   "execution_count": 5,
   "id": "2def7cf0",
   "metadata": {},
   "outputs": [],
   "source": [
    "#drop unnamed column \n",
    "df = df.drop(columns = ['Unnamed: 0'])"
   ]
  },
  {
   "cell_type": "code",
   "execution_count": 6,
   "id": "694cbb74",
   "metadata": {},
   "outputs": [
    {
     "data": {
      "text/plain": [
       "['county_code',\n",
       " 'county',\n",
       " 'state',\n",
       " 'lat',\n",
       " 'long',\n",
       " 'date',\n",
       " 'cases',\n",
       " 'state_code',\n",
       " 'deaths',\n",
       " 'male',\n",
       " 'female',\n",
       " 'median_age',\n",
       " 'population',\n",
       " 'female_percentage',\n",
       " 'region',\n",
       " 'daily_deaths',\n",
       " 'daily_cases',\n",
       " 'month',\n",
       " 'year']"
      ]
     },
     "execution_count": 6,
     "metadata": {},
     "output_type": "execute_result"
    }
   ],
   "source": [
    "#check the columns \n",
    "df.columns.to_list()"
   ]
  },
  {
   "cell_type": "code",
   "execution_count": 7,
   "id": "42110bb5",
   "metadata": {},
   "outputs": [
    {
     "data": {
      "text/html": [
       "<div>\n",
       "<style scoped>\n",
       "    .dataframe tbody tr th:only-of-type {\n",
       "        vertical-align: middle;\n",
       "    }\n",
       "\n",
       "    .dataframe tbody tr th {\n",
       "        vertical-align: top;\n",
       "    }\n",
       "\n",
       "    .dataframe thead th {\n",
       "        text-align: right;\n",
       "    }\n",
       "</style>\n",
       "<table border=\"1\" class=\"dataframe\">\n",
       "  <thead>\n",
       "    <tr style=\"text-align: right;\">\n",
       "      <th></th>\n",
       "      <th>county_code</th>\n",
       "      <th>county</th>\n",
       "      <th>state</th>\n",
       "      <th>lat</th>\n",
       "      <th>long</th>\n",
       "      <th>date</th>\n",
       "      <th>cases</th>\n",
       "      <th>state_code</th>\n",
       "      <th>deaths</th>\n",
       "      <th>male</th>\n",
       "      <th>female</th>\n",
       "      <th>median_age</th>\n",
       "      <th>population</th>\n",
       "      <th>female_percentage</th>\n",
       "      <th>region</th>\n",
       "      <th>daily_deaths</th>\n",
       "      <th>daily_cases</th>\n",
       "      <th>month</th>\n",
       "      <th>year</th>\n",
       "    </tr>\n",
       "  </thead>\n",
       "  <tbody>\n",
       "  </tbody>\n",
       "</table>\n",
       "</div>"
      ],
      "text/plain": [
       "Empty DataFrame\n",
       "Columns: [county_code, county, state, lat, long, date, cases, state_code, deaths, male, female, median_age, population, female_percentage, region, daily_deaths, daily_cases, month, year]\n",
       "Index: []"
      ]
     },
     "execution_count": 7,
     "metadata": {},
     "output_type": "execute_result"
    }
   ],
   "source": [
    "#check for duplicates \n",
    "df_dups = df[df.duplicated()] \n",
    "df_dups\n",
    "#no duplicates "
   ]
  },
  {
   "cell_type": "code",
   "execution_count": 8,
   "id": "d1da5bf3",
   "metadata": {},
   "outputs": [
    {
     "data": {
      "text/plain": [
       "county_code          0\n",
       "county               0\n",
       "state                0\n",
       "lat                  0\n",
       "long                 0\n",
       "date                 0\n",
       "cases                0\n",
       "state_code           0\n",
       "deaths               0\n",
       "male                 0\n",
       "female               0\n",
       "median_age           0\n",
       "population           0\n",
       "female_percentage    0\n",
       "region               0\n",
       "daily_deaths         0\n",
       "daily_cases          0\n",
       "month                0\n",
       "year                 0\n",
       "dtype: int64"
      ]
     },
     "execution_count": 8,
     "metadata": {},
     "output_type": "execute_result"
    }
   ],
   "source": [
    "#check for missing values \n",
    "df.isnull().sum()\n",
    "#no missign values "
   ]
  },
  {
   "cell_type": "code",
   "execution_count": 9,
   "id": "de67f777",
   "metadata": {},
   "outputs": [],
   "source": [
    "#check for mixed datatypes \n",
    "for col in df.columns.tolist():\n",
    "  weird = (df[[col]].applymap(type) != df[[col]].iloc[0].apply(type)).any(axis = 1)\n",
    "  if len (df[weird]) > 0:\n",
    "    print (col)\n",
    "#no mixed data types "
   ]
  },
  {
   "cell_type": "code",
   "execution_count": 10,
   "id": "cadfd86b",
   "metadata": {},
   "outputs": [
    {
     "data": {
      "text/plain": [
       "['county_code',\n",
       " 'county',\n",
       " 'state',\n",
       " 'lat',\n",
       " 'long',\n",
       " 'date',\n",
       " 'cases',\n",
       " 'state_code',\n",
       " 'deaths',\n",
       " 'male',\n",
       " 'female',\n",
       " 'median_age',\n",
       " 'population',\n",
       " 'female_percentage',\n",
       " 'region',\n",
       " 'daily_deaths',\n",
       " 'daily_cases',\n",
       " 'month',\n",
       " 'year']"
      ]
     },
     "execution_count": 10,
     "metadata": {},
     "output_type": "execute_result"
    }
   ],
   "source": [
    "#list column names \n",
    "df.columns.to_list()"
   ]
  },
  {
   "cell_type": "code",
   "execution_count": 11,
   "id": "638b71c1",
   "metadata": {},
   "outputs": [],
   "source": [
    "#aggregate \n",
    "agg = {'population':'first',\n",
    "      'female':'first',\n",
    "      'male':'first',\n",
    "      'daily_deaths':sum,\n",
    "      'daily_cases':sum}"
   ]
  },
  {
   "cell_type": "code",
   "execution_count": 12,
   "id": "db6591db",
   "metadata": {},
   "outputs": [],
   "source": [
    "#group data according to county \n",
    "df = df.groupby(['state','county']).agg(agg)"
   ]
  },
  {
   "cell_type": "code",
   "execution_count": 13,
   "id": "215de921",
   "metadata": {},
   "outputs": [
    {
     "data": {
      "text/html": [
       "<div>\n",
       "<style scoped>\n",
       "    .dataframe tbody tr th:only-of-type {\n",
       "        vertical-align: middle;\n",
       "    }\n",
       "\n",
       "    .dataframe tbody tr th {\n",
       "        vertical-align: top;\n",
       "    }\n",
       "\n",
       "    .dataframe thead th {\n",
       "        text-align: right;\n",
       "    }\n",
       "</style>\n",
       "<table border=\"1\" class=\"dataframe\">\n",
       "  <thead>\n",
       "    <tr style=\"text-align: right;\">\n",
       "      <th></th>\n",
       "      <th></th>\n",
       "      <th>population</th>\n",
       "      <th>female</th>\n",
       "      <th>male</th>\n",
       "      <th>daily_deaths</th>\n",
       "      <th>daily_cases</th>\n",
       "    </tr>\n",
       "    <tr>\n",
       "      <th>state</th>\n",
       "      <th>county</th>\n",
       "      <th></th>\n",
       "      <th></th>\n",
       "      <th></th>\n",
       "      <th></th>\n",
       "      <th></th>\n",
       "    </tr>\n",
       "  </thead>\n",
       "  <tbody>\n",
       "    <tr>\n",
       "      <th rowspan=\"5\" valign=\"top\">Alabama</th>\n",
       "      <th>Autauga</th>\n",
       "      <td>55200</td>\n",
       "      <td>28326</td>\n",
       "      <td>26874</td>\n",
       "      <td>240.0</td>\n",
       "      <td>19819.0</td>\n",
       "    </tr>\n",
       "    <tr>\n",
       "      <th>Baldwin</th>\n",
       "      <td>208107</td>\n",
       "      <td>106919</td>\n",
       "      <td>101188</td>\n",
       "      <td>735.0</td>\n",
       "      <td>70014.0</td>\n",
       "    </tr>\n",
       "    <tr>\n",
       "      <th>Barbour</th>\n",
       "      <td>25782</td>\n",
       "      <td>12085</td>\n",
       "      <td>13697</td>\n",
       "      <td>105.0</td>\n",
       "      <td>7460.0</td>\n",
       "    </tr>\n",
       "    <tr>\n",
       "      <th>Bibb</th>\n",
       "      <td>22527</td>\n",
       "      <td>10375</td>\n",
       "      <td>12152</td>\n",
       "      <td>117.0</td>\n",
       "      <td>8116.0</td>\n",
       "    </tr>\n",
       "    <tr>\n",
       "      <th>Blount</th>\n",
       "      <td>57645</td>\n",
       "      <td>29211</td>\n",
       "      <td>28434</td>\n",
       "      <td>267.0</td>\n",
       "      <td>18738.0</td>\n",
       "    </tr>\n",
       "  </tbody>\n",
       "</table>\n",
       "</div>"
      ],
      "text/plain": [
       "                 population  female    male  daily_deaths  daily_cases\n",
       "state   county                                                        \n",
       "Alabama Autauga       55200   28326   26874         240.0      19819.0\n",
       "        Baldwin      208107  106919  101188         735.0      70014.0\n",
       "        Barbour       25782   12085   13697         105.0       7460.0\n",
       "        Bibb          22527   10375   12152         117.0       8116.0\n",
       "        Blount        57645   29211   28434         267.0      18738.0"
      ]
     },
     "execution_count": 13,
     "metadata": {},
     "output_type": "execute_result"
    }
   ],
   "source": [
    "df.head()"
   ]
  },
  {
   "cell_type": "code",
   "execution_count": 14,
   "id": "521f26a0",
   "metadata": {},
   "outputs": [],
   "source": [
    "# Convert the result to a new DataFrame\n",
    "df = pd.DataFrame(df.reset_index())"
   ]
  },
  {
   "cell_type": "code",
   "execution_count": 15,
   "id": "a441d35d",
   "metadata": {},
   "outputs": [],
   "source": [
    "#rename columns \n",
    "df.columns = ['state','county','population','female','male','total_deaths','total_cases']"
   ]
  },
  {
   "cell_type": "code",
   "execution_count": 16,
   "id": "5cb268ac",
   "metadata": {},
   "outputs": [],
   "source": [
    "#remove categorical columns\n",
    "df = df.drop(columns = ['state','county'])"
   ]
  },
  {
   "cell_type": "code",
   "execution_count": 17,
   "id": "558b328c",
   "metadata": {},
   "outputs": [
    {
     "data": {
      "text/plain": [
       "['population', 'female', 'male', 'total_deaths', 'total_cases']"
      ]
     },
     "execution_count": 17,
     "metadata": {},
     "output_type": "execute_result"
    }
   ],
   "source": [
    "#check columns in new dataframe \n",
    "df.columns.to_list()"
   ]
  },
  {
   "cell_type": "markdown",
   "id": "616bce29",
   "metadata": {},
   "source": [
    "# The new dataframe contains total cases and deaths per county from all dates (2020 - 2023)"
   ]
  },
  {
   "cell_type": "markdown",
   "id": "6b73d602",
   "metadata": {},
   "source": [
    "# 3. Use the elbow technique as shown in the Jupyter notebook for this Exercise."
   ]
  },
  {
   "cell_type": "code",
   "execution_count": 18,
   "id": "0d6fd2b2",
   "metadata": {},
   "outputs": [],
   "source": [
    "#define a range of potential numbers of clusters in the data \n",
    "#choosing 1-10 like in the Exercise\n",
    "num_clusters = range(1,10)\n",
    "kmeans = [KMeans(n_clusters=i) for i in num_clusters]"
   ]
  },
  {
   "cell_type": "code",
   "execution_count": 19,
   "id": "eb20cfa2",
   "metadata": {},
   "outputs": [
    {
     "name": "stderr",
     "output_type": "stream",
     "text": [
      "/Users/libertyonia/anaconda3/lib/python3.10/site-packages/sklearn/cluster/_kmeans.py:870: FutureWarning: The default value of `n_init` will change from 10 to 'auto' in 1.4. Set the value of `n_init` explicitly to suppress the warning\n",
      "  warnings.warn(\n",
      "/Users/libertyonia/anaconda3/lib/python3.10/site-packages/sklearn/cluster/_kmeans.py:870: FutureWarning: The default value of `n_init` will change from 10 to 'auto' in 1.4. Set the value of `n_init` explicitly to suppress the warning\n",
      "  warnings.warn(\n",
      "/Users/libertyonia/anaconda3/lib/python3.10/site-packages/sklearn/cluster/_kmeans.py:870: FutureWarning: The default value of `n_init` will change from 10 to 'auto' in 1.4. Set the value of `n_init` explicitly to suppress the warning\n",
      "  warnings.warn(\n",
      "/Users/libertyonia/anaconda3/lib/python3.10/site-packages/sklearn/cluster/_kmeans.py:870: FutureWarning: The default value of `n_init` will change from 10 to 'auto' in 1.4. Set the value of `n_init` explicitly to suppress the warning\n",
      "  warnings.warn(\n",
      "/Users/libertyonia/anaconda3/lib/python3.10/site-packages/sklearn/cluster/_kmeans.py:870: FutureWarning: The default value of `n_init` will change from 10 to 'auto' in 1.4. Set the value of `n_init` explicitly to suppress the warning\n",
      "  warnings.warn(\n",
      "/Users/libertyonia/anaconda3/lib/python3.10/site-packages/sklearn/cluster/_kmeans.py:870: FutureWarning: The default value of `n_init` will change from 10 to 'auto' in 1.4. Set the value of `n_init` explicitly to suppress the warning\n",
      "  warnings.warn(\n",
      "/Users/libertyonia/anaconda3/lib/python3.10/site-packages/sklearn/cluster/_kmeans.py:870: FutureWarning: The default value of `n_init` will change from 10 to 'auto' in 1.4. Set the value of `n_init` explicitly to suppress the warning\n",
      "  warnings.warn(\n",
      "/Users/libertyonia/anaconda3/lib/python3.10/site-packages/sklearn/cluster/_kmeans.py:870: FutureWarning: The default value of `n_init` will change from 10 to 'auto' in 1.4. Set the value of `n_init` explicitly to suppress the warning\n",
      "  warnings.warn(\n",
      "/Users/libertyonia/anaconda3/lib/python3.10/site-packages/sklearn/cluster/_kmeans.py:870: FutureWarning: The default value of `n_init` will change from 10 to 'auto' in 1.4. Set the value of `n_init` explicitly to suppress the warning\n",
      "  warnings.warn(\n"
     ]
    }
   ],
   "source": [
    "#after applying range, then apply k-means algorithm \n",
    "score = [kmeans[i].fit(df).score(df) for i in range(len(kmeans))]\n",
    "#this will output a list of scores "
   ]
  },
  {
   "cell_type": "code",
   "execution_count": 20,
   "id": "2fd09fed",
   "metadata": {},
   "outputs": [
    {
     "data": {
      "text/plain": [
       "[-551122804605043.25,\n",
       " -265802729328206.38,\n",
       " -135719757540725.17,\n",
       " -72585524666846.17,\n",
       " -45468634335108.11,\n",
       " -27965598495175.07,\n",
       " -19605470650037.4,\n",
       " -13601998608471.295,\n",
       " -10509757416817.732]"
      ]
     },
     "execution_count": 20,
     "metadata": {},
     "output_type": "execute_result"
    }
   ],
   "source": [
    "#list score\n",
    "score"
   ]
  },
  {
   "cell_type": "code",
   "execution_count": 21,
   "id": "07352a40",
   "metadata": {},
   "outputs": [
    {
     "data": {
      "image/png": "[encoded data removed]",
      "text/plain": [
       "<Figure size 640x480 with 1 Axes>"
      ]
     },
     "metadata": {},
     "output_type": "display_data"
    }
   ],
   "source": [
    "#plot the elbow curve \n",
    "pl.plot(num_clusters,score)\n",
    "pl.xlabel('Number of Clusters')\n",
    "pl.ylabel('Score')\n",
    "pl.title('Elbox Curve')\n",
    "pl.show()"
   ]
  },
  {
   "cell_type": "markdown",
   "id": "2c0f027c",
   "metadata": {},
   "source": [
    "# 4. Make an informed decision about the number of clusters you’ll use in your k-means algorithm based on the chart.\n",
    "- Explain why you chose that number in a markdown cell.\n",
    "- If you run into any problems determining the optimal number of clusters using the elbow technique, reach out to your tutor for suggestions.\n",
    "\n",
    "I will be choosing the number 4. The values jump rapidly from 1 through 4, then plateaus after 4. This means the optimal count for clusters is 4. "
   ]
  },
  {
   "cell_type": "markdown",
   "id": "13619800",
   "metadata": {},
   "source": [
    "# 5. Run the k-means algorithm "
   ]
  },
  {
   "cell_type": "code",
   "execution_count": 22,
   "id": "1a0186ee",
   "metadata": {},
   "outputs": [],
   "source": [
    "#create the k-means object\n",
    "kmeans = KMeans(n_clusters = 4)"
   ]
  },
  {
   "cell_type": "code",
   "execution_count": 23,
   "id": "65f0cf87",
   "metadata": {},
   "outputs": [
    {
     "name": "stderr",
     "output_type": "stream",
     "text": [
      "/Users/libertyonia/anaconda3/lib/python3.10/site-packages/sklearn/cluster/_kmeans.py:870: FutureWarning: The default value of `n_init` will change from 10 to 'auto' in 1.4. Set the value of `n_init` explicitly to suppress the warning\n",
      "  warnings.warn(\n"
     ]
    },
    {
     "data": {
      "text/html": [
       "<style>#sk-container-id-1 {color: black;background-color: white;}#sk-container-id-1 pre{padding: 0;}#sk-container-id-1 div.sk-toggleable {background-color: white;}#sk-container-id-1 label.sk-toggleable__label {cursor: pointer;display: block;width: 100%;margin-bottom: 0;padding: 0.3em;box-sizing: border-box;text-align: center;}#sk-container-id-1 label.sk-toggleable__label-arrow:before {content: \"▸\";float: left;margin-right: 0.25em;color: #696969;}#sk-container-id-1 label.sk-toggleable__label-arrow:hover:before {color: black;}#sk-container-id-1 div.sk-estimator:hover label.sk-toggleable__label-arrow:before {color: black;}#sk-container-id-1 div.sk-toggleable__content {max-height: 0;max-width: 0;overflow: hidden;text-align: left;background-color: #f0f8ff;}#sk-container-id-1 div.sk-toggleable__content pre {margin: 0.2em;color: black;border-radius: 0.25em;background-color: #f0f8ff;}#sk-container-id-1 input.sk-toggleable__control:checked~div.sk-toggleable__content {max-height: 200px;max-width: 100%;overflow: auto;}#sk-container-id-1 input.sk-toggleable__control:checked~label.sk-toggleable__label-arrow:before {content: \"▾\";}#sk-container-id-1 div.sk-estimator input.sk-toggleable__control:checked~label.sk-toggleable__label {background-color: #d4ebff;}#sk-container-id-1 div.sk-label input.sk-toggleable__control:checked~label.sk-toggleable__label {background-color: #d4ebff;}#sk-container-id-1 input.sk-hidden--visually {border: 0;clip: rect(1px 1px 1px 1px);clip: rect(1px, 1px, 1px, 1px);height: 1px;margin: -1px;overflow: hidden;padding: 0;position: absolute;width: 1px;}#sk-container-id-1 div.sk-estimator {font-family: monospace;background-color: #f0f8ff;border: 1px dotted black;border-radius: 0.25em;box-sizing: border-box;margin-bottom: 0.5em;}#sk-container-id-1 div.sk-estimator:hover {background-color: #d4ebff;}#sk-container-id-1 div.sk-parallel-item::after {content: \"\";width: 100%;border-bottom: 1px solid gray;flex-grow: 1;}#sk-container-id-1 div.sk-label:hover label.sk-toggleable__label {background-color: #d4ebff;}#sk-container-id-1 div.sk-serial::before {content: \"\";position: absolute;border-left: 1px solid gray;box-sizing: border-box;top: 0;bottom: 0;left: 50%;z-index: 0;}#sk-container-id-1 div.sk-serial {display: flex;flex-direction: column;align-items: center;background-color: white;padding-right: 0.2em;padding-left: 0.2em;position: relative;}#sk-container-id-1 div.sk-item {position: relative;z-index: 1;}#sk-container-id-1 div.sk-parallel {display: flex;align-items: stretch;justify-content: center;background-color: white;position: relative;}#sk-container-id-1 div.sk-item::before, #sk-container-id-1 div.sk-parallel-item::before {content: \"\";position: absolute;border-left: 1px solid gray;box-sizing: border-box;top: 0;bottom: 0;left: 50%;z-index: -1;}#sk-container-id-1 div.sk-parallel-item {display: flex;flex-direction: column;z-index: 1;position: relative;background-color: white;}#sk-container-id-1 div.sk-parallel-item:first-child::after {align-self: flex-end;width: 50%;}#sk-container-id-1 div.sk-parallel-item:last-child::after {align-self: flex-start;width: 50%;}#sk-container-id-1 div.sk-parallel-item:only-child::after {width: 0;}#sk-container-id-1 div.sk-dashed-wrapped {border: 1px dashed gray;margin: 0 0.4em 0.5em 0.4em;box-sizing: border-box;padding-bottom: 0.4em;background-color: white;}#sk-container-id-1 div.sk-label label {font-family: monospace;font-weight: bold;display: inline-block;line-height: 1.2em;}#sk-container-id-1 div.sk-label-container {text-align: center;}#sk-container-id-1 div.sk-container {/* jupyter's `normalize.less` sets `[hidden] { display: none; }` but bootstrap.min.css set `[hidden] { display: none !important; }` so we also need the `!important` here to be able to override the default hidden behavior on the sphinx rendered scikit-learn.org. See: https://github.com/scikit-learn/scikit-learn/issues/21755 */display: inline-block !important;position: relative;}#sk-container-id-1 div.sk-text-repr-fallback {display: none;}</style><div id=\"sk-container-id-1\" class=\"sk-top-container\"><div class=\"sk-text-repr-fallback\"><pre>KMeans(n_clusters=4)</pre><b>In a Jupyter environment, please rerun this cell to show the HTML representation or trust the notebook. <br />On GitHub, the HTML representation is unable to render, please try loading this page with nbviewer.org.</b></div><div class=\"sk-container\" hidden><div class=\"sk-item\"><div class=\"sk-estimator sk-toggleable\"><input class=\"sk-toggleable__control sk-hidden--visually\" id=\"sk-estimator-id-1\" type=\"checkbox\" checked><label for=\"sk-estimator-id-1\" class=\"sk-toggleable__label sk-toggleable__label-arrow\">KMeans</label><div class=\"sk-toggleable__content\"><pre>KMeans(n_clusters=4)</pre></div></div></div></div></div>"
      ],
      "text/plain": [
       "KMeans(n_clusters=4)"
      ]
     },
     "execution_count": 23,
     "metadata": {},
     "output_type": "execute_result"
    }
   ],
   "source": [
    "#fit kmeans object to dataframe \n",
    "kmeans.fit(df)"
   ]
  },
  {
   "cell_type": "markdown",
   "id": "c0784188",
   "metadata": {},
   "source": [
    "# 6. Attach a new column to your dataframe with the resulting clusters as shown in the Exercise. This will allow you to create a visualization using your clusters."
   ]
  },
  {
   "cell_type": "code",
   "execution_count": 24,
   "id": "61eb6b69",
   "metadata": {},
   "outputs": [
    {
     "name": "stderr",
     "output_type": "stream",
     "text": [
      "/Users/libertyonia/anaconda3/lib/python3.10/site-packages/sklearn/cluster/_kmeans.py:870: FutureWarning: The default value of `n_init` will change from 10 to 'auto' in 1.4. Set the value of `n_init` explicitly to suppress the warning\n",
      "  warnings.warn(\n"
     ]
    }
   ],
   "source": [
    "#create column in dataframe with values corresponding to clusters \n",
    "df['clusters'] = kmeans.fit_predict(df)"
   ]
  },
  {
   "cell_type": "code",
   "execution_count": 25,
   "id": "da0aad6c",
   "metadata": {},
   "outputs": [
    {
     "data": {
      "text/html": [
       "<div>\n",
       "<style scoped>\n",
       "    .dataframe tbody tr th:only-of-type {\n",
       "        vertical-align: middle;\n",
       "    }\n",
       "\n",
       "    .dataframe tbody tr th {\n",
       "        vertical-align: top;\n",
       "    }\n",
       "\n",
       "    .dataframe thead th {\n",
       "        text-align: right;\n",
       "    }\n",
       "</style>\n",
       "<table border=\"1\" class=\"dataframe\">\n",
       "  <thead>\n",
       "    <tr style=\"text-align: right;\">\n",
       "      <th></th>\n",
       "      <th>population</th>\n",
       "      <th>female</th>\n",
       "      <th>male</th>\n",
       "      <th>total_deaths</th>\n",
       "      <th>total_cases</th>\n",
       "      <th>clusters</th>\n",
       "    </tr>\n",
       "  </thead>\n",
       "  <tbody>\n",
       "    <tr>\n",
       "      <th>0</th>\n",
       "      <td>55200</td>\n",
       "      <td>28326</td>\n",
       "      <td>26874</td>\n",
       "      <td>240.0</td>\n",
       "      <td>19819.0</td>\n",
       "      <td>0</td>\n",
       "    </tr>\n",
       "    <tr>\n",
       "      <th>1</th>\n",
       "      <td>208107</td>\n",
       "      <td>106919</td>\n",
       "      <td>101188</td>\n",
       "      <td>735.0</td>\n",
       "      <td>70014.0</td>\n",
       "      <td>0</td>\n",
       "    </tr>\n",
       "    <tr>\n",
       "      <th>2</th>\n",
       "      <td>25782</td>\n",
       "      <td>12085</td>\n",
       "      <td>13697</td>\n",
       "      <td>105.0</td>\n",
       "      <td>7460.0</td>\n",
       "      <td>0</td>\n",
       "    </tr>\n",
       "    <tr>\n",
       "      <th>3</th>\n",
       "      <td>22527</td>\n",
       "      <td>10375</td>\n",
       "      <td>12152</td>\n",
       "      <td>117.0</td>\n",
       "      <td>8116.0</td>\n",
       "      <td>0</td>\n",
       "    </tr>\n",
       "    <tr>\n",
       "      <th>4</th>\n",
       "      <td>57645</td>\n",
       "      <td>29211</td>\n",
       "      <td>28434</td>\n",
       "      <td>267.0</td>\n",
       "      <td>18738.0</td>\n",
       "      <td>0</td>\n",
       "    </tr>\n",
       "  </tbody>\n",
       "</table>\n",
       "</div>"
      ],
      "text/plain": [
       "   population  female    male  total_deaths  total_cases  clusters\n",
       "0       55200   28326   26874         240.0      19819.0         0\n",
       "1      208107  106919  101188         735.0      70014.0         0\n",
       "2       25782   12085   13697         105.0       7460.0         0\n",
       "3       22527   10375   12152         117.0       8116.0         0\n",
       "4       57645   29211   28434         267.0      18738.0         0"
      ]
     },
     "execution_count": 25,
     "metadata": {},
     "output_type": "execute_result"
    }
   ],
   "source": [
    "#check the dataframe to see the new column \n",
    "df.head()"
   ]
  },
  {
   "cell_type": "code",
   "execution_count": 26,
   "id": "a3ea83c8",
   "metadata": {},
   "outputs": [
    {
     "data": {
      "text/plain": [
       "0    2969\n",
       "1     153\n",
       "3      18\n",
       "2       1\n",
       "Name: clusters, dtype: int64"
      ]
     },
     "execution_count": 26,
     "metadata": {},
     "output_type": "execute_result"
    }
   ],
   "source": [
    "#count the clusers \n",
    "df['clusters'].value_counts()"
   ]
  },
  {
   "cell_type": "markdown",
   "id": "c94787be",
   "metadata": {},
   "source": [
    "# 7. Create a few different visualizations (e.g., scatterplots) using your clustered data. Try plotting different variables against each other to see the results in terms of the clusters."
   ]
  },
  {
   "cell_type": "code",
   "execution_count": 27,
   "id": "12ca60d1",
   "metadata": {},
   "outputs": [
    {
     "data": {
      "image/png": "[encoded data removed]",
      "text/plain": [
       "<Figure size 1200x800 with 1 Axes>"
      ]
     },
     "metadata": {},
     "output_type": "display_data"
    }
   ],
   "source": [
    "import seaborn as sns\n",
    "import matplotlib.pyplot as plt\n",
    "\n",
    "# Set the font family to Times New Roman for the entire plot\n",
    "plt.rcParams['font.family'] = 'serif'\n",
    "plt.rcParams['font.serif'] = 'Times New Roman'\n",
    "\n",
    "# Define a blue color palette\n",
    "blue_palette = sns.color_palette(\"Blues_d\", as_cmap=True)\n",
    "\n",
    "# Create a figure and axes\n",
    "plt.figure(figsize=(12, 8))\n",
    "ax = sns.scatterplot(x=df['population'], y=df['total_cases'], hue=kmeans.labels_, s=100, palette=blue_palette)\n",
    "\n",
    "# Access the spines of the current axes and set the color to gray\n",
    "ax.spines['top'].set_color('gray')\n",
    "ax.spines['right'].set_color('gray')\n",
    "ax.spines['bottom'].set_color('gray')\n",
    "ax.spines['left'].set_color('gray')\n",
    "\n",
    "ax.grid(False)  # This removes the grid from the background.\n",
    "plt.xlabel('Population',fontsize=20)  # Label x-axis.\n",
    "plt.ylabel('Total Cases',fontsize=20)  # Label y-axis.\n",
    "\n",
    "# Set the title to be bold\n",
    "plt.title('Population vs Total Cases', fontsize=25, fontweight='bold')\n",
    "\n",
    "# Specify the complete file path, including the folder where you want to save the plot\n",
    "file_path = '/Users/libertyonia/Documents/Covid/scatterplot.png'\n",
    "\n",
    "# Save the figure to the specified folder\n",
    "plt.savefig(file_path, dpi=1500, bbox_inches='tight')\n",
    "\n",
    "# Show the plot (optional)\n",
    "plt.show()\n"
   ]
  },
  {
   "cell_type": "code",
   "execution_count": 28,
   "id": "eadc8987",
   "metadata": {},
   "outputs": [
    {
     "data": {
      "image/png": "[encoded data removed]",
      "text/plain": [
       "<Figure size 1200x800 with 1 Axes>"
      ]
     },
     "metadata": {},
     "output_type": "display_data"
    }
   ],
   "source": [
    "import seaborn as sns\n",
    "import matplotlib.pyplot as plt\n",
    "\n",
    "# Set the font family to Times New Roman for the entire plot\n",
    "plt.rcParams['font.family'] = 'serif'\n",
    "plt.rcParams['font.serif'] = 'Times New Roman'\n",
    "\n",
    "# Define a blue color palette\n",
    "blue_palette = sns.color_palette(\"Blues_d\", as_cmap=True)\n",
    "\n",
    "# Create a figure and axes\n",
    "plt.figure(figsize=(12, 8))\n",
    "ax = sns.scatterplot(x=df['population'], y=df['total_deaths'], hue=kmeans.labels_, s=100, palette=blue_palette)\n",
    "\n",
    "# Access the spines of the current axes and set the color to gray\n",
    "ax.spines['top'].set_color('gray')\n",
    "ax.spines['right'].set_color('gray')\n",
    "ax.spines['bottom'].set_color('gray')\n",
    "ax.spines['left'].set_color('gray')\n",
    "\n",
    "ax.grid(False)  # This removes the grid from the background.\n",
    "plt.xlabel('Population',fontsize=20)  # Label x-axis.\n",
    "plt.ylabel('Total Mortality',fontsize=20)  # Label y-axis.\n",
    "\n",
    "# Set the title to be bold\n",
    "plt.title('Population vs Total Mortality', fontsize=25, fontweight='bold')\n",
    "\n",
    "# Specify the complete file path, including the folder where you want to save the plot\n",
    "file_path = '/Users/libertyonia/Documents/Covid/scatterplot2.png'\n",
    "\n",
    "# Save the figure to the specified folder\n",
    "plt.savefig(file_path, dpi=1500, bbox_inches='tight')\n",
    "\n",
    "# Show the plot (optional)\n",
    "plt.show()\n"
   ]
  },
  {
   "cell_type": "code",
   "execution_count": 29,
   "id": "6cabcd55",
   "metadata": {},
   "outputs": [
    {
     "data": {
      "image/png": "[encoded data removed]",
      "text/plain": [
       "<Figure size 1200x800 with 1 Axes>"
      ]
     },
     "metadata": {},
     "output_type": "display_data"
    }
   ],
   "source": [
    "#plot cases vs deaths\n",
    "\n",
    "plt.figure(figsize=(12,8))\n",
    "ax = sns.scatterplot(x=df['total_cases'], y=df['total_deaths'], hue=kmeans.labels_, s=100) \n",
    "\n",
    "ax.grid(False) # This removes the grid from the background.\n",
    "plt.xlabel('Total Cases ') # Label x-axis.\n",
    "plt.ylabel('Total Deaths ') # Label y-axis.\n",
    "plt.show()"
   ]
  },
  {
   "cell_type": "markdown",
   "id": "9fe6deeb",
   "metadata": {},
   "source": [
    "# 8. Discuss how and why the clusters make sense. If they don’t make sense, however, this is also useful insight, as it means you’ll need to explore the data further.\n",
    "There are 4 distinct clusters that were selected from the elbow technique. The first group (0) are mostly counties with small populations and low cases and deaths. The second group (1) consist of counties with populations less than 2 million with total cases less than 1 million and total deaths less than 10,000. The fourth group (3) consist of counties with populations between 2 to 6 million. This group has 500,000 - 2 million cases and 5,000 - 20,000 deaths. The third group (2) only has one observation. This county has the largest population of around 10,000,000. It has around 3.5 million total cases and 35,000 recorded deaths. This data makes sense as there are a wide range of population sizes in America. Some counties are very small while others can have millions of residents. "
   ]
  },
  {
   "cell_type": "markdown",
   "id": "4edcba41",
   "metadata": {},
   "source": [
    "# 9. Calculate the descriptive statistics for your clusters using the groupby() function and discuss your findings.\n"
   ]
  },
  {
   "cell_type": "code",
   "execution_count": 30,
   "id": "1829486a",
   "metadata": {},
   "outputs": [],
   "source": [
    "#create a column that renames the clusters to colors \n",
    "df.loc[df['clusters'] == 3, 'cluster'] = 'black'\n",
    "df.loc[df['clusters'] == 2, 'cluster'] = 'dark purple'\n",
    "df.loc[df['clusters'] == 1, 'cluster'] = 'purple'\n",
    "df.loc[df['clusters'] == 0, 'cluster'] = 'pink'"
   ]
  },
  {
   "cell_type": "code",
   "execution_count": 31,
   "id": "0f213540",
   "metadata": {},
   "outputs": [
    {
     "data": {
      "text/html": [
       "<div>\n",
       "<style scoped>\n",
       "    .dataframe tbody tr th:only-of-type {\n",
       "        vertical-align: middle;\n",
       "    }\n",
       "\n",
       "    .dataframe tbody tr th {\n",
       "        vertical-align: top;\n",
       "    }\n",
       "\n",
       "    .dataframe thead tr th {\n",
       "        text-align: left;\n",
       "    }\n",
       "\n",
       "    .dataframe thead tr:last-of-type th {\n",
       "        text-align: right;\n",
       "    }\n",
       "</style>\n",
       "<table border=\"1\" class=\"dataframe\">\n",
       "  <thead>\n",
       "    <tr>\n",
       "      <th></th>\n",
       "      <th colspan=\"2\" halign=\"left\">population</th>\n",
       "      <th colspan=\"2\" halign=\"left\">total_cases</th>\n",
       "      <th colspan=\"2\" halign=\"left\">total_deaths</th>\n",
       "    </tr>\n",
       "    <tr>\n",
       "      <th></th>\n",
       "      <th>mean</th>\n",
       "      <th>median</th>\n",
       "      <th>mean</th>\n",
       "      <th>median</th>\n",
       "      <th>mean</th>\n",
       "      <th>median</th>\n",
       "    </tr>\n",
       "    <tr>\n",
       "      <th>cluster</th>\n",
       "      <th></th>\n",
       "      <th></th>\n",
       "      <th></th>\n",
       "      <th></th>\n",
       "      <th></th>\n",
       "      <th></th>\n",
       "    </tr>\n",
       "  </thead>\n",
       "  <tbody>\n",
       "    <tr>\n",
       "      <th>black</th>\n",
       "      <td>2.728367e+06</td>\n",
       "      <td>2340899.5</td>\n",
       "      <td>8.989913e+05</td>\n",
       "      <td>772500.5</td>\n",
       "      <td>9300.722222</td>\n",
       "      <td>8235.0</td>\n",
       "    </tr>\n",
       "    <tr>\n",
       "      <th>dark purple</th>\n",
       "      <td>1.009805e+07</td>\n",
       "      <td>10098052.0</td>\n",
       "      <td>3.691489e+06</td>\n",
       "      <td>3691489.0</td>\n",
       "      <td>35272.000000</td>\n",
       "      <td>35272.0</td>\n",
       "    </tr>\n",
       "    <tr>\n",
       "      <th>pink</th>\n",
       "      <td>4.991629e+04</td>\n",
       "      <td>23515.0</td>\n",
       "      <td>1.544815e+04</td>\n",
       "      <td>7176.0</td>\n",
       "      <td>188.463456</td>\n",
       "      <td>104.0</td>\n",
       "    </tr>\n",
       "    <tr>\n",
       "      <th>purple</th>\n",
       "      <td>7.503818e+05</td>\n",
       "      <td>684017.0</td>\n",
       "      <td>2.309289e+05</td>\n",
       "      <td>209102.0</td>\n",
       "      <td>2328.359477</td>\n",
       "      <td>2035.0</td>\n",
       "    </tr>\n",
       "  </tbody>\n",
       "</table>\n",
       "</div>"
      ],
      "text/plain": [
       "               population               total_cases             total_deaths  \\\n",
       "                     mean      median          mean     median          mean   \n",
       "cluster                                                                        \n",
       "black        2.728367e+06   2340899.5  8.989913e+05   772500.5   9300.722222   \n",
       "dark purple  1.009805e+07  10098052.0  3.691489e+06  3691489.0  35272.000000   \n",
       "pink         4.991629e+04     23515.0  1.544815e+04     7176.0    188.463456   \n",
       "purple       7.503818e+05    684017.0  2.309289e+05   209102.0   2328.359477   \n",
       "\n",
       "                      \n",
       "              median  \n",
       "cluster               \n",
       "black         8235.0  \n",
       "dark purple  35272.0  \n",
       "pink           104.0  \n",
       "purple        2035.0  "
      ]
     },
     "execution_count": 31,
     "metadata": {},
     "output_type": "execute_result"
    }
   ],
   "source": [
    "df.groupby('cluster').agg({\n",
    "    'population':['mean','median'],\n",
    "    'total_cases':['mean','median'],\n",
    "    'total_deaths':['mean','median']\n",
    "})"
   ]
  },
  {
   "cell_type": "markdown",
   "id": "36103e62",
   "metadata": {},
   "source": [
    "The pink cluster (0) has low population counties with an average of 50,000 residents. It has an average total cases of around 15,500 and total deaths of around 200. \n",
    "\n",
    "The purple cluster (1) has middle population sized counties with an average of around 750,000 residents. It has an average total cases of around 230,000 and 2,500 deaths. \n",
    "\n",
    "The black cluster (3) has large populated counties. The average population is 2.7 million. The average total cases is around 920,000 cases and the average total deaths is 9,300. \n",
    "\n",
    "The dark purple cluster (2) contains only one county. The county has a population of around 10,000,000 residents. The total cases is around 3.5 million and the total deaths is 35,272. \n",
    "\n",
    "Interestingly, each cluster is ~10X times greater/lower than its neighboring cluster. For instance, the pink cluster has a total population that is less than 10x of the purple cluster population. \n"
   ]
  },
  {
   "cell_type": "markdown",
   "id": "43b93c9a",
   "metadata": {},
   "source": [
    "# 10. Propose what these results could be useful for in future steps of an analytics pipeline.\n",
    "Rather than there being three distinct population sizes (example: small, medium, and large), there are 4 distinct population sizes per county. It may be interesting to further analysis on states rather than counties. Also, it would be interesting to creating a scatter plot like those above, but the color coordination comes from U.S.A regions (South, Midwest, Northeast, West). This may give insight if regions follow the cluster pattern. "
   ]
  },
  {
   "cell_type": "code",
   "execution_count": 32,
   "id": "270edf4e",
   "metadata": {},
   "outputs": [
    {
     "data": {
      "text/html": [
       "<div>\n",
       "<style scoped>\n",
       "    .dataframe tbody tr th:only-of-type {\n",
       "        vertical-align: middle;\n",
       "    }\n",
       "\n",
       "    .dataframe tbody tr th {\n",
       "        vertical-align: top;\n",
       "    }\n",
       "\n",
       "    .dataframe thead th {\n",
       "        text-align: right;\n",
       "    }\n",
       "</style>\n",
       "<table border=\"1\" class=\"dataframe\">\n",
       "  <thead>\n",
       "    <tr style=\"text-align: right;\">\n",
       "      <th></th>\n",
       "      <th>population</th>\n",
       "      <th>female</th>\n",
       "      <th>male</th>\n",
       "      <th>total_deaths</th>\n",
       "      <th>total_cases</th>\n",
       "      <th>clusters</th>\n",
       "      <th>cluster</th>\n",
       "    </tr>\n",
       "  </thead>\n",
       "  <tbody>\n",
       "    <tr>\n",
       "      <th>0</th>\n",
       "      <td>55200</td>\n",
       "      <td>28326</td>\n",
       "      <td>26874</td>\n",
       "      <td>240.0</td>\n",
       "      <td>19819.0</td>\n",
       "      <td>0</td>\n",
       "      <td>pink</td>\n",
       "    </tr>\n",
       "    <tr>\n",
       "      <th>1</th>\n",
       "      <td>208107</td>\n",
       "      <td>106919</td>\n",
       "      <td>101188</td>\n",
       "      <td>735.0</td>\n",
       "      <td>70014.0</td>\n",
       "      <td>0</td>\n",
       "      <td>pink</td>\n",
       "    </tr>\n",
       "    <tr>\n",
       "      <th>2</th>\n",
       "      <td>25782</td>\n",
       "      <td>12085</td>\n",
       "      <td>13697</td>\n",
       "      <td>105.0</td>\n",
       "      <td>7460.0</td>\n",
       "      <td>0</td>\n",
       "      <td>pink</td>\n",
       "    </tr>\n",
       "    <tr>\n",
       "      <th>3</th>\n",
       "      <td>22527</td>\n",
       "      <td>10375</td>\n",
       "      <td>12152</td>\n",
       "      <td>117.0</td>\n",
       "      <td>8116.0</td>\n",
       "      <td>0</td>\n",
       "      <td>pink</td>\n",
       "    </tr>\n",
       "    <tr>\n",
       "      <th>4</th>\n",
       "      <td>57645</td>\n",
       "      <td>29211</td>\n",
       "      <td>28434</td>\n",
       "      <td>267.0</td>\n",
       "      <td>18738.0</td>\n",
       "      <td>0</td>\n",
       "      <td>pink</td>\n",
       "    </tr>\n",
       "    <tr>\n",
       "      <th>...</th>\n",
       "      <td>...</td>\n",
       "      <td>...</td>\n",
       "      <td>...</td>\n",
       "      <td>...</td>\n",
       "      <td>...</td>\n",
       "      <td>...</td>\n",
       "      <td>...</td>\n",
       "    </tr>\n",
       "    <tr>\n",
       "      <th>3136</th>\n",
       "      <td>44117</td>\n",
       "      <td>21235</td>\n",
       "      <td>22882</td>\n",
       "      <td>139.0</td>\n",
       "      <td>12497.0</td>\n",
       "      <td>0</td>\n",
       "      <td>pink</td>\n",
       "    </tr>\n",
       "    <tr>\n",
       "      <th>3137</th>\n",
       "      <td>23059</td>\n",
       "      <td>11148</td>\n",
       "      <td>11911</td>\n",
       "      <td>17.0</td>\n",
       "      <td>12157.0</td>\n",
       "      <td>0</td>\n",
       "      <td>pink</td>\n",
       "    </tr>\n",
       "    <tr>\n",
       "      <th>3138</th>\n",
       "      <td>20609</td>\n",
       "      <td>10104</td>\n",
       "      <td>10505</td>\n",
       "      <td>43.0</td>\n",
       "      <td>6444.0</td>\n",
       "      <td>0</td>\n",
       "      <td>pink</td>\n",
       "    </tr>\n",
       "    <tr>\n",
       "      <th>3139</th>\n",
       "      <td>8129</td>\n",
       "      <td>3992</td>\n",
       "      <td>4137</td>\n",
       "      <td>50.0</td>\n",
       "      <td>2818.0</td>\n",
       "      <td>0</td>\n",
       "      <td>pink</td>\n",
       "    </tr>\n",
       "    <tr>\n",
       "      <th>3140</th>\n",
       "      <td>7100</td>\n",
       "      <td>3332</td>\n",
       "      <td>3768</td>\n",
       "      <td>25.0</td>\n",
       "      <td>1927.0</td>\n",
       "      <td>0</td>\n",
       "      <td>pink</td>\n",
       "    </tr>\n",
       "  </tbody>\n",
       "</table>\n",
       "<p>3141 rows × 7 columns</p>\n",
       "</div>"
      ],
      "text/plain": [
       "      population  female    male  total_deaths  total_cases  clusters cluster\n",
       "0          55200   28326   26874         240.0      19819.0         0    pink\n",
       "1         208107  106919  101188         735.0      70014.0         0    pink\n",
       "2          25782   12085   13697         105.0       7460.0         0    pink\n",
       "3          22527   10375   12152         117.0       8116.0         0    pink\n",
       "4          57645   29211   28434         267.0      18738.0         0    pink\n",
       "...          ...     ...     ...           ...          ...       ...     ...\n",
       "3136       44117   21235   22882         139.0      12497.0         0    pink\n",
       "3137       23059   11148   11911          17.0      12157.0         0    pink\n",
       "3138       20609   10104   10505          43.0       6444.0         0    pink\n",
       "3139        8129    3992    4137          50.0       2818.0         0    pink\n",
       "3140        7100    3332    3768          25.0       1927.0         0    pink\n",
       "\n",
       "[3141 rows x 7 columns]"
      ]
     },
     "execution_count": 32,
     "metadata": {},
     "output_type": "execute_result"
    }
   ],
   "source": [
    "df"
   ]
  },
  {
   "cell_type": "code",
   "execution_count": 33,
   "id": "37534e60",
   "metadata": {},
   "outputs": [],
   "source": [
    "df.to_csv(os.path.join(path,'02 Data','Prepared Data','Cluster.csv'))"
   ]
  },
  {
   "cell_type": "code",
   "execution_count": null,
   "id": "8f9585f4",
   "metadata": {},
   "outputs": [],
   "source": []
  }
 ],
 "metadata": {
  "kernelspec": {
   "display_name": "Python 3 (ipykernel)",
   "language": "python",
   "name": "python3"
  },
  "language_info": {
   "codemirror_mode": {
    "name": "ipython",
    "version": 3
   },
   "file_extension": ".py",
   "mimetype": "text/x-python",
   "name": "python",
   "nbconvert_exporter": "python",
   "pygments_lexer": "ipython3",
   "version": "3.10.9"
  }
 },
 "nbformat": 4,
 "nbformat_minor": 5
}
